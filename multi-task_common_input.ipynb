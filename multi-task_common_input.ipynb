{
 "cells": [
  {
   "cell_type": "code",
   "execution_count": 1,
   "metadata": {
    "collapsed": false
   },
   "outputs": [
    {
     "name": "stderr",
     "output_type": "stream",
     "text": [
      "Using TensorFlow backend.\n"
     ]
    }
   ],
   "source": [
    "import spacy\n",
    "import numpy as np\n",
    "import wikipedia, string\n",
    "\n",
    "nlp = spacy.load('en')\n",
    "\n",
    "from keras.optimizers import Adam\n",
    "from keras.models import Model\n",
    "from keras.layers import Dense, LSTM, Bidirectional, Embedding, Input, Dropout, concatenate, Conv1D, Lambda\n",
    "from keras.preprocessing.sequence import pad_sequences\n",
    "from keras.layers.wrappers import TimeDistributed\n",
    "from keras.layers.pooling import MaxPooling1D\n",
    "from keras import regularizers\n",
    "from keras import losses\n",
    "\n",
    "from layers import ChainCRF"
   ]
  },
  {
   "cell_type": "code",
   "execution_count": 2,
   "metadata": {
    "collapsed": false
   },
   "outputs": [],
   "source": [
    "def corpus_builder(subjects):\n",
    "    \"\"\"receives a list of topics, retrieves corresponding Wikipedia articles and assembles a text corpus\"\"\"\n",
    "    text = \"\"\n",
    "    for subj in subjects:\n",
    "        text += wikipedia.page(subj).content\n",
    "    return text.lower()\n",
    "\n",
    "def remove_punc(text):\n",
    "    return text.translate(str.maketrans('','',string.punctuation))\n",
    "\n",
    "text = corpus_builder(['linguistics', \n",
    "                       'noam chomsky', \n",
    "                       'computational linguistics', \n",
    "                       'natural language processing',\n",
    "                       'semantics',\n",
    "                       'pragmatics',\n",
    "                       'phonetics',\n",
    "                       'phonology',\n",
    "                       'syntax',\n",
    "                       'george lakoff',\n",
    "                       'cognitive linguistics'])\n",
    "\n",
    "y_1 = [] # corresponds to POS tags\n",
    "y_2 = [] # corresponds to dependency tags\n",
    "\n",
    "X_ = text.split('.')\n",
    "X_ = [remove_punc(x) for x in X_]\n",
    "\n",
    "X = []\n",
    "for sent in X_:\n",
    "    tokens = []\n",
    "    pos_tags = []\n",
    "    dep_tags = []\n",
    "    doc = nlp(sent)\n",
    "    for token in doc:\n",
    "        pos_tags.append(str(token.pos_))\n",
    "        dep_tags.append(str(token.dep_))\n",
    "        tokens.append(str(token)) # convert 'spacy.tokens.token.Token' to 'string'\n",
    "    X.append(tokens)\n",
    "    y_1.append(pos_tags)\n",
    "    y_2.append(dep_tags)\n",
    "\n",
    "# if there are empty (unknown) tags, insert 'UNK' to signal unknown\n",
    "y_1 = [['UNK'] if y == [] else y for y in y_1]\n",
    "y_2 = [['UNK'] if y == [] else y for y in y_2]"
   ]
  },
  {
   "cell_type": "code",
   "execution_count": 3,
   "metadata": {
    "collapsed": true
   },
   "outputs": [],
   "source": [
    "all_pos_tags = list(set([elem for sublist in y_1 for elem in sublist]))\n",
    "all_dep_tags = list(set([elem for sublist in y_2 for elem in sublist]))\n",
    "\n",
    "pos2idx = {label:i for (i,label) in enumerate(all_pos_tags, start=1)}\n",
    "pos2idx[0] = 0 \n",
    "idx2pos = {v: k for k, v in pos2idx.items()}\n",
    "\n",
    "dep2idx = {label:i for (i,label) in enumerate(all_dep_tags, start=1)}\n",
    "dep2idx[0] = 0\n",
    "idx2dep = {v: k for k, v in dep2idx.items()}\n",
    "\n",
    "# integer-encode labels \n",
    "y_1 = [[pos2idx[pos] for pos in sent] for sent in y_1]\n",
    "y_2 = [[dep2idx[dep] for dep in sent] for sent in y_2]"
   ]
  },
  {
   "cell_type": "code",
   "execution_count": 4,
   "metadata": {
    "collapsed": false
   },
   "outputs": [],
   "source": [
    "# integer encode words in the sequence \n",
    "words = list(set([elem for sublist in X for elem in sublist]))\n",
    "w2idx = {label:i for (i,label) in enumerate(words, start=1)}\n",
    "\n",
    "idx2w = {v: k for k, v in w2idx.items()}\n",
    "\n",
    "X = [np.array([w2idx[w] for w in sent]) for sent in X]\n",
    "\n",
    "# zero-pad all the sequences smaller than max_length (max len of sents)\n",
    "max_length = len(max(X, key=len))\n",
    "\n",
    "X_padded = pad_sequences(X, maxlen=max_length, padding='post')\n",
    "y_1_padded = pad_sequences(y_1, maxlen=max_length, padding='post')\n",
    "y_2_padded = pad_sequences(y_2, maxlen=max_length, padding='post')"
   ]
  },
  {
   "cell_type": "code",
   "execution_count": 5,
   "metadata": {
    "collapsed": false
   },
   "outputs": [],
   "source": [
    "# one-hot encode the labels \n",
    "from keras.utils import to_categorical\n",
    "\n",
    "# y_1\n",
    "pos_idx = np.array(list(idx2pos.keys()))\n",
    "pos_vec = to_categorical(pos_idx)\n",
    "one_hot_y_1 = dict(zip(pos_idx, pos_vec))\n",
    "\n",
    "y_1_padded = np.array([[one_hot_y_1[l] for l in labels] for labels in y_1_padded])\n",
    "\n",
    "# y_2\n",
    "dep_idx = np.array(list(idx2dep.keys()))\n",
    "dep_vec = to_categorical(dep_idx)\n",
    "one_hot_y_2 = dict(zip(dep_idx, dep_vec))\n",
    "\n",
    "y_2_padded = np.array([[one_hot_y_2[l] for l in labels] for labels in y_2_padded])"
   ]
  },
  {
   "cell_type": "code",
   "execution_count": 6,
   "metadata": {
    "collapsed": false
   },
   "outputs": [],
   "source": [
    "n_classes_pos = len(pos2idx)\n",
    "n_classes_dep = len(dep2idx)\n",
    "\n",
    "# multi-task learning (no shared layers)\n",
    "def MTL():\n",
    "    # pos \n",
    "    visible_pos = Input(shape=(max_length,), dtype='int32', name='visible_pos')\n",
    "    embed1 = Embedding(input_dim=len(words)+1, output_dim=512)(visible_pos)\n",
    "    conv1 = Conv1D(300, 2, activation=\"relu\", padding=\"same\", name='conv1', \n",
    "                        kernel_regularizer=regularizers.l2(0.001))(embed1)\n",
    "    lstm1 = Bidirectional(LSTM(100,return_sequences=True, name='lstm1', dropout=0.5))(conv1)\n",
    "    tmd1 = TimeDistributed(Dense(100, activation='relu', name='dense1_relu'), name='TimeDistributed1')(lstm1) \n",
    "    output_pos = TimeDistributed(Dense(n_classes_pos, name='dense1'), name='TimeDistributed2')(tmd1) \n",
    "    \n",
    "    # dep\n",
    "    visible_dep = Input(shape=(max_length,), dtype='int32', name='visible_dep')\n",
    "    embed2 = Embedding(input_dim=len(words)+1, output_dim=512)(visible_dep)\n",
    "    conv2 = Conv1D(300, 2, activation=\"relu\", padding=\"same\", name='conv2', \n",
    "                        kernel_regularizer=regularizers.l2(0.001))(embed2)\n",
    "    lstm2 = Bidirectional(LSTM(100,return_sequences=True, name='lstm2', dropout=0.5))(conv2)\n",
    "    tmd2 = TimeDistributed(Dense(100, activation='relu', name='dense2_relu'), name='TimeDistributed3')(lstm2) \n",
    "    output_dep = TimeDistributed(Dense(n_classes_dep, name='dense2'), name='TimeDistributed4')(tmd2) \n",
    "    \n",
    "    model = Model(inputs=[visible_pos, visible_dep], outputs=[output_pos, output_dep]) \n",
    "    model.compile(loss=[losses.categorical_crossentropy, losses.categorical_crossentropy],\n",
    "                  optimizer='adam', \n",
    "                  metrics=['mae', 'acc'])\n",
    "    print(model.summary())\n",
    "    return model    "
   ]
  },
  {
   "cell_type": "code",
   "execution_count": 15,
   "metadata": {
    "collapsed": true
   },
   "outputs": [],
   "source": [
    "# inspired by: https://goo.gl/U4ydx5\n",
    "def MTL_enhanced():\n",
    "    # pos (pos tagging is taken to be the main objective)\n",
    "    main_input = Input(shape=(max_length,), dtype='int32', name='main_input')\n",
    "    embed1 = Embedding(input_dim=len(words)+1, output_dim=512)(main_input)\n",
    "    conv1 = Conv1D(100, 2, activation=\"relu\", padding=\"same\", name='conv1', \n",
    "                        kernel_regularizer=regularizers.l2(0.001))(embed1)\n",
    "    lstm1 = Bidirectional(LSTM(100, name='lstm1', dropout=0.5, return_sequences=True))(conv1)\n",
    "    # dep as an auxiliary task\n",
    "    aux_output = TimeDistributed(Dense(n_classes_dep, name='dense1', activation='sigmoid'), name='TimeDistributed1')(lstm1)\n",
    "    aux_input = Input(shape=(max_length,), dtype='int32', name='aux_input')\n",
    "    embed2 = Embedding(input_dim=len(words)+1, output_dim=512)(aux_input)\n",
    "    x = concatenate([embed2, lstm1])\n",
    "    # We stack a deep densely-connected network on top\n",
    "    x = Dense(64, activation='relu')(x)\n",
    "    x = Dense(64, activation='relu')(x)\n",
    "    x = Dense(64, activation='relu')(x)\n",
    "    main_output = TimeDistributed(Dense(n_classes_pos, name='dense2'), name='TimeDistributed2')(x) \n",
    "\n",
    "    model = Model(inputs=[main_input, aux_input], outputs=[main_output, aux_output]) \n",
    "    model.compile(loss=[losses.categorical_crossentropy, losses.categorical_crossentropy],\n",
    "                  optimizer='adam', \n",
    "                  metrics=['acc'],\n",
    "                  loss_weights=[1., 0.2])\n",
    "    print(model.summary())\n",
    "    return model     "
   ]
  },
  {
   "cell_type": "code",
   "execution_count": 18,
   "metadata": {
    "collapsed": false,
    "scrolled": true
   },
   "outputs": [
    {
     "name": "stdout",
     "output_type": "stream",
     "text": [
      "__________________________________________________________________________________________________\n",
      "Layer (type)                    Output Shape         Param #     Connected to                     \n",
      "==================================================================================================\n",
      "main_input (InputLayer)         (None, 164)          0                                            \n",
      "__________________________________________________________________________________________________\n",
      "embedding_11 (Embedding)        (None, 164, 512)     3259904     main_input[0][0]                 \n",
      "__________________________________________________________________________________________________\n",
      "aux_input (InputLayer)          (None, 164)          0                                            \n",
      "__________________________________________________________________________________________________\n",
      "conv1 (Conv1D)                  (None, 164, 100)     102500      embedding_11[0][0]               \n",
      "__________________________________________________________________________________________________\n",
      "embedding_12 (Embedding)        (None, 164, 512)     3259904     aux_input[0][0]                  \n",
      "__________________________________________________________________________________________________\n",
      "bidirectional_6 (Bidirectional) (None, 164, 200)     160800      conv1[0][0]                      \n",
      "__________________________________________________________________________________________________\n",
      "concatenate_6 (Concatenate)     (None, 164, 712)     0           embedding_12[0][0]               \n",
      "                                                                 bidirectional_6[0][0]            \n",
      "__________________________________________________________________________________________________\n",
      "dense_16 (Dense)                (None, 164, 64)      45632       concatenate_6[0][0]              \n",
      "__________________________________________________________________________________________________\n",
      "dense_17 (Dense)                (None, 164, 64)      4160        dense_16[0][0]                   \n",
      "__________________________________________________________________________________________________\n",
      "dense_18 (Dense)                (None, 164, 64)      4160        dense_17[0][0]                   \n",
      "__________________________________________________________________________________________________\n",
      "TimeDistributed2 (TimeDistribut (None, 164, 18)      1170        dense_18[0][0]                   \n",
      "__________________________________________________________________________________________________\n",
      "TimeDistributed1 (TimeDistribut (None, 164, 58)      11658       bidirectional_6[0][0]            \n",
      "==================================================================================================\n",
      "Total params: 6,849,888\n",
      "Trainable params: 6,849,888\n",
      "Non-trainable params: 0\n",
      "__________________________________________________________________________________________________\n",
      "None\n",
      "Epoch 1/15\n",
      "2172/2172 [==============================] - 27s 12ms/step - loss: 16.0859 - TimeDistributed2_loss: 14.2556 - TimeDistributed1_loss: 1.6914 - TimeDistributed2_acc: 0.0315 - TimeDistributed1_acc: 0.8369\n",
      "Epoch 2/15\n",
      "2172/2172 [==============================] - 28s 13ms/step - loss: 16.0770 - TimeDistributed2_loss: 15.6276 - TimeDistributed1_loss: 0.3684 - TimeDistributed2_acc: 0.0336 - TimeDistributed1_acc: 0.8917\n",
      "Epoch 3/15\n",
      "2172/2172 [==============================] - 29s 13ms/step - loss: 16.0119 - TimeDistributed2_loss: 15.6104 - TimeDistributed1_loss: 0.3477 - TimeDistributed2_acc: 0.0336 - TimeDistributed1_acc: 0.8917\n",
      "Epoch 4/15\n",
      "2172/2172 [==============================] - 30s 14ms/step - loss: 15.9278 - TimeDistributed2_loss: 15.5473 - TimeDistributed1_loss: 0.3395 - TimeDistributed2_acc: 0.0336 - TimeDistributed1_acc: 0.8917\n",
      "Epoch 5/15\n",
      "2172/2172 [==============================] - 28s 13ms/step - loss: 15.9689 - TimeDistributed2_loss: 15.6034 - TimeDistributed1_loss: 0.3326 - TimeDistributed2_acc: 0.0336 - TimeDistributed1_acc: 0.8918\n",
      "Epoch 6/15\n",
      "2172/2172 [==============================] - 28s 13ms/step - loss: 15.9614 - TimeDistributed2_loss: 15.6133 - TimeDistributed1_loss: 0.3207 - TimeDistributed2_acc: 0.0336 - TimeDistributed1_acc: 0.8944\n",
      "Epoch 7/15\n",
      "2172/2172 [==============================] - 28s 13ms/step - loss: 15.9518 - TimeDistributed2_loss: 15.6218 - TimeDistributed1_loss: 0.3069 - TimeDistributed2_acc: 0.0336 - TimeDistributed1_acc: 0.8995\n",
      "Epoch 8/15\n",
      "2172/2172 [==============================] - 28s 13ms/step - loss: 15.9480 - TimeDistributed2_loss: 15.6424 - TimeDistributed1_loss: 0.2861 - TimeDistributed2_acc: 0.0336 - TimeDistributed1_acc: 0.9037\n",
      "Epoch 9/15\n",
      "2172/2172 [==============================] - 28s 13ms/step - loss: 15.9273 - TimeDistributed2_loss: 15.6363 - TimeDistributed1_loss: 0.2746 - TimeDistributed2_acc: 0.0336 - TimeDistributed1_acc: 0.9072\n",
      "Epoch 10/15\n",
      "2172/2172 [==============================] - 28s 13ms/step - loss: 15.8590 - TimeDistributed2_loss: 15.5812 - TimeDistributed1_loss: 0.2632 - TimeDistributed2_acc: 0.0336 - TimeDistributed1_acc: 0.9087\n",
      "Epoch 11/15\n",
      "2172/2172 [==============================] - 28s 13ms/step - loss: 15.7970 - TimeDistributed2_loss: 15.5360 - TimeDistributed1_loss: 0.2477 - TimeDistributed2_acc: 0.0336 - TimeDistributed1_acc: 0.9120\n",
      "Epoch 12/15\n",
      "2172/2172 [==============================] - 28s 13ms/step - loss: 15.7850 - TimeDistributed2_loss: 15.5559 - TimeDistributed1_loss: 0.2162 - TimeDistributed2_acc: 0.0336 - TimeDistributed1_acc: 0.9356\n",
      "Epoch 13/15\n",
      "2172/2172 [==============================] - 28s 13ms/step - loss: 15.7105 - TimeDistributed2_loss: 15.5160 - TimeDistributed1_loss: 0.1814 - TimeDistributed2_acc: 0.0336 - TimeDistributed1_acc: 0.9483\n",
      "Epoch 14/15\n",
      "2172/2172 [==============================] - 28s 13ms/step - loss: 15.5712 - TimeDistributed2_loss: 15.4027 - TimeDistributed1_loss: 0.1557 - TimeDistributed2_acc: 0.0336 - TimeDistributed1_acc: 0.9575\n",
      "Epoch 15/15\n",
      "2172/2172 [==============================] - 28s 13ms/step - loss: 15.5280 - TimeDistributed2_loss: 15.3821 - TimeDistributed1_loss: 0.1337 - TimeDistributed2_acc: 0.0336 - TimeDistributed1_acc: 0.9640\n"
     ]
    },
    {
     "data": {
      "text/plain": [
       "<keras.callbacks.History at 0x1a7b573b70>"
      ]
     },
     "execution_count": 18,
     "metadata": {},
     "output_type": "execute_result"
    }
   ],
   "source": [
    "y = tuple(zip(y_1_padded, y_2_padded))\n",
    "\n",
    "from sklearn.model_selection import train_test_split\n",
    "X_train, X_test, y_train, y_test = train_test_split(X_padded, y, test_size=0.1, random_state=42)\n",
    "\n",
    "# we look at pos tags first\n",
    "y_train_pos = np.array([y[0] for y in y_train])\n",
    "y_test_pos = np.array([y[0] for y in y_test])\n",
    "\n",
    "y_train_dep = np.array([y[1] for y in y_train])\n",
    "y_test_dep = np.array([y[1] for y in y_test])\n",
    "\n",
    "model = MTL_enhanced()\n",
    "\n",
    "model.fit({'main_input': X_train, 'aux_input': X_train},\n",
    "          {'TimeDistributed2': y_train_pos, 'TimeDistributed1': y_train_dep},\n",
    "          epochs=15, batch_size=32)\n",
    "\n",
    "# model.fit([X_train, X_train], [y_train_pos, y_train_dep], validation_split=0, batch_size=16, epochs=5)\n",
    "\n",
    "# since we are not using early stopping and our data is small already, we set validation split to zero\n",
    "# model.fit(X_train, y_train, validation_split=0, batch_size=16, epochs=5)"
   ]
  },
  {
   "cell_type": "code",
   "execution_count": 19,
   "metadata": {
    "collapsed": false
   },
   "outputs": [
    {
     "name": "stdout",
     "output_type": "stream",
     "text": [
      "242/242 [==============================] - 1s 4ms/step\n"
     ]
    },
    {
     "data": {
      "text/plain": [
       "[15.818660499635806,\n",
       " 15.681115757335316,\n",
       " 0.12599670665323243,\n",
       " 0.030714573723471854,\n",
       " 0.96608546253078242]"
      ]
     },
     "execution_count": 19,
     "metadata": {},
     "output_type": "execute_result"
    }
   ],
   "source": [
    "model.evaluate([X_test, X_test], [y_test_pos, y_test_dep])"
   ]
  },
  {
   "cell_type": "code",
   "execution_count": 20,
   "metadata": {
    "collapsed": false
   },
   "outputs": [
    {
     "data": {
      "text/plain": [
       "['loss',\n",
       " 'TimeDistributed2_loss',\n",
       " 'TimeDistributed1_loss',\n",
       " 'TimeDistributed2_acc',\n",
       " 'TimeDistributed1_acc']"
      ]
     },
     "execution_count": 20,
     "metadata": {},
     "output_type": "execute_result"
    }
   ],
   "source": [
    "model.metrics_names"
   ]
  },
  {
   "cell_type": "code",
   "execution_count": null,
   "metadata": {
    "collapsed": true
   },
   "outputs": [],
   "source": []
  },
  {
   "cell_type": "code",
   "execution_count": null,
   "metadata": {
    "collapsed": true
   },
   "outputs": [],
   "source": []
  },
  {
   "cell_type": "code",
   "execution_count": null,
   "metadata": {
    "collapsed": true
   },
   "outputs": [],
   "source": []
  }
 ],
 "metadata": {
  "anaconda-cloud": {},
  "kernelspec": {
   "display_name": "Python [conda root]",
   "language": "python",
   "name": "conda-root-py"
  },
  "language_info": {
   "codemirror_mode": {
    "name": "ipython",
    "version": 3
   },
   "file_extension": ".py",
   "mimetype": "text/x-python",
   "name": "python",
   "nbconvert_exporter": "python",
   "pygments_lexer": "ipython3",
   "version": "3.5.2"
  }
 },
 "nbformat": 4,
 "nbformat_minor": 2
}
